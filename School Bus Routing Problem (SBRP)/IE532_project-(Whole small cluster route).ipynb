{
 "cells": [
  {
   "cell_type": "code",
   "execution_count": 80,
   "id": "c2aa0f5a",
   "metadata": {},
   "outputs": [],
   "source": [
    "import pandas as pd\n",
    "import numpy as np\n",
    "data = pd.read_csv('SS SB BS BB - Sheet1.csv')\n",
    "length = len(data['Stop_id'])"
   ]
  },
  {
   "cell_type": "code",
   "execution_count": 81,
   "id": "a7d87a42",
   "metadata": {},
   "outputs": [],
   "source": [
    "import networkx as nx\n",
    "import matplotlib.pyplot as plt\n",
    "plt.rcParams['figure.figsize'] = [5, 5] ## set the size of all figures"
   ]
  },
  {
   "cell_type": "code",
   "execution_count": 82,
   "id": "45ead761",
   "metadata": {},
   "outputs": [],
   "source": [
    "import math\n",
    "def haversine(x,y): \n",
    "    lon1=x[0]\n",
    "    lat1=x[1]\n",
    "    lon2=y[0]\n",
    "    lat2=y[1]\n",
    "    lon1, lat1, lon2, lat2 = map(math.radians, [lon1, lat1, lon2, lat2])\n",
    "    dlon = lon2 - lon1 \n",
    "    dlat = lat2 - lat1 \n",
    "    a = math.sin(dlat/2)**2 + math.cos(lat1) * math.cos(lat2) * math.sin(dlon/2)**2\n",
    "    c = 2 * math.asin(math.sqrt(a)) \n",
    "    r = 3956 \n",
    "    return c*r"
   ]
  },
  {
   "cell_type": "code",
   "execution_count": 83,
   "id": "6ce5877f",
   "metadata": {},
   "outputs": [],
   "source": [
    "from itertools import combinations\n",
    "x=data[\"Longitude\"].tolist() # Longitude corresponds to the x axis.\n",
    "y=data[\"Latitude\"].tolist() # Latitude corresponds to the y axis.\n",
    "z=data[\"Stop_id\"].tolist() \n",
    "s=data['Nodesize'].tolist()\n",
    "\n",
    "stations={}\n",
    "pos={}\n",
    "for i in range(len(x)):\n",
    "    stations[z[i]]=(x[i],y[i]) # storing (x,y) information for each zip code\n",
    "    pos[z[i]]=(x[i],y[i]) # also storing them to position the nodes in the end.\n",
    "\n",
    "G=nx.Graph() \n",
    "addList=[]\n",
    "for (i,j) in combinations(stations,2):\n",
    "    distance=haversine(stations[i],stations[j])\n",
    "    addList.append(distance)\n",
    "    G.add_node(i,weight=distance)\n",
    "    G.add_edge(i,j,weight=distance)"
   ]
  },
  {
   "cell_type": "code",
   "execution_count": 84,
   "id": "aa61f874",
   "metadata": {},
   "outputs": [],
   "source": [
    "size=[10,10,10,450,10,40,10,10,20,10,150,20,10,30,110,30,50,30,10,20,10,10,10,20,40,160,30,40,10,50,10,30,10,960,10,320]"
   ]
  },
  {
   "cell_type": "code",
   "execution_count": 85,
   "id": "94dd9e5d",
   "metadata": {},
   "outputs": [],
   "source": [
    "route=[[0, 144],[0, 74],[6, 52],[52, 97],[133, 138],[138, 6],[144, 70],[74, 133],[0, 25],[2, 41],[3, 5],[5, 62],[8, 2],[25, 3],[41, 24],[62, 98],[98, 118],[118, 8],[0, 27],[17, 47],[23, 90],[27, 23],[33, 115],[47, 33],[90, 105],[105, 17],[0, 116],[0, 147],[0, 148],[0, 149],[1, 84],[2, 0],[3, 114],[84, 88],[88, 2],[114, 137],[116, 3],[137, 1]]"
   ]
  },
  {
   "cell_type": "code",
   "execution_count": 86,
   "id": "e1e53bdf",
   "metadata": {},
   "outputs": [],
   "source": [
    "starting=[]\n",
    "for i in range(len(route)):\n",
    "    if route[i][0]==0:\n",
    "        starting.append(route[i])\n",
    "#print(starting)"
   ]
  },
  {
   "cell_type": "code",
   "execution_count": 87,
   "id": "bf2d1dbd",
   "metadata": {},
   "outputs": [],
   "source": [
    "starting=[]\n",
    "for i in range(len(route)):\n",
    "    if route[i][0]==0:\n",
    "        starting.append(route[i])\n",
    "routes=[]\n",
    "for i in range(len(starting)):\n",
    "    routes.append([])\n",
    "    routes[i].append(starting[i])\n",
    "routes_n=0\n",
    "\n",
    "while len(route)>routes_n:\n",
    "    for i in range(len(route)):\n",
    "        for j in range(len(routes)):\n",
    "            if routes[j][-1][1]!=0:\n",
    "                if route[i][0]==routes[j][-1][1]:\n",
    "                    routes[j].append(route[i])\n",
    "    routes_n=0\n",
    "    for i in range(len(routes)):\n",
    "        routes_n+=len(routes[i])"
   ]
  },
  {
   "cell_type": "code",
   "execution_count": 93,
   "id": "5ad0f90b",
   "metadata": {},
   "outputs": [
    {
     "name": "stdout",
     "output_type": "stream",
     "text": [
      "route  0 :  1.4991484906551988\n",
      "route  1 :  52.701971561020436\n",
      "route  2 :  62.02290344397185\n",
      "route  3 :  38.96301671258826\n",
      "route  4 :  82.34607095436145\n",
      "route  5 :  0.6904522520889138\n",
      "route  6 :  0.6904522520889138\n",
      "route  7 :  0.6904522520889138\n"
     ]
    }
   ],
   "source": [
    "for r in range(len(routes)):\n",
    "    dist=0\n",
    "    for i in (range(len(routes[r]))):\n",
    "        dist+= haversine(stations[routes[r][i][0]],stations[routes[r][i][1]])\n",
    "    print(\"route \", r,\": \",dist)"
   ]
  },
  {
   "cell_type": "code",
   "execution_count": 92,
   "id": "8ef6d383",
   "metadata": {},
   "outputs": [
    {
     "data": {
      "image/png": "[encoded data removed]",
      "text/plain": [
       "<Figure size 360x360 with 1 Axes>"
      ]
     },
     "metadata": {},
     "output_type": "display_data"
    }
   ],
   "source": [
    "node_list=[0]\n",
    "nx.draw(G,pos, with_labels=False,node_size=size,width=0) \n",
    "nx.draw_networkx_nodes(G,pos,node_size=50,nodelist=node_list,node_color ='r')\n",
    "nx.draw_networkx_edges(G,pos,edge_color='r',edgelist=routes[0],alpha=0.8)\n",
    "nx.draw_networkx_edges(G,pos,edge_color='b',edgelist=routes[1],alpha=0.8)\n",
    "nx.draw_networkx_edges(G,pos,edge_color='y',edgelist=routes[2],alpha=0.8)\n",
    "nx.draw_networkx_edges(G,pos,edge_color='g',edgelist=routes[3],alpha=0.8)\n",
    "nx.draw_networkx_edges(G,pos,edge_color='k',edgelist=routes[4],alpha=0.8)\n",
    "nx.draw_networkx_edges(G,pos,edge_color='c',edgelist=routes[5],alpha=0.8)\n",
    "nx.draw_networkx_edges(G,pos,edge_color='m',edgelist=routes[6],alpha=0.8)\n",
    "nx.draw_networkx_edges(G,pos,edge_color='lime',edgelist=routes[7],alpha=0.8)\n",
    "\n",
    "plt.savefig(\"Whole-small(route=8,label)\")\n",
    "plt.show()"
   ]
  },
  {
   "cell_type": "code",
   "execution_count": null,
   "id": "584254d5",
   "metadata": {},
   "outputs": [],
   "source": []
  }
 ],
 "metadata": {
  "kernelspec": {
   "display_name": "Python 3",
   "language": "python",
   "name": "python3"
  },
  "language_info": {
   "codemirror_mode": {
    "name": "ipython",
    "version": 3
   },
   "file_extension": ".py",
   "mimetype": "text/x-python",
   "name": "python",
   "nbconvert_exporter": "python",
   "pygments_lexer": "ipython3",
   "version": "3.8.8"
  }
 },
 "nbformat": 4,
 "nbformat_minor": 5
}
