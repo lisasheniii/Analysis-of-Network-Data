{
 "cells": [
  {
   "cell_type": "code",
   "execution_count": 45,
   "id": "7951c822",
   "metadata": {},
   "outputs": [],
   "source": [
    "from gurobipy import *\n",
    "myModel=Model(\"SBRP-BB\")"
   ]
  },
  {
   "cell_type": "code",
   "execution_count": 47,
   "id": "5f8e2504",
   "metadata": {},
   "outputs": [],
   "source": [
    "import pandas as pd\n",
    "import numpy as np\n",
    "data = pd.read_csv('D:\\download\\BB.csv')\n",
    "length = len(data['Stop_id'])"
   ]
  },
  {
   "cell_type": "code",
   "execution_count": 4,
   "id": "bbfe03eb",
   "metadata": {},
   "outputs": [],
   "source": [
    "# x_ij = 1 if station i to station j is selected (routing variable)\n",
    "x = myModel.addVars([i for i in range(length)],[j for j in range(length)],vtype=GRB.BINARY, name=\"x\")\n",
    "# y_i = integer (number of students on bus after station i)\n",
    "y = myModel.addVars([i for i in range(length)],vtype=GRB.INTEGER, name=\"y\")\n",
    "# z_i = continuous (time at station i)\n",
    "z = myModel.addVars([i for i in range(length)], name=\"z\")"
   ]
  },
  {
   "cell_type": "code",
   "execution_count": 5,
   "id": "d3767567",
   "metadata": {},
   "outputs": [],
   "source": [
    "c = data['Number']\n",
    "Q = 50\n",
    "M = 1000\n",
    "D = 50\n",
    "def t(i,j):\n",
    "    return np.linalg.norm(np.array(data['Latitude'][i],data['Longitude'][i])-np.array(data['Latitude'][j],data['Longitude'][j]))"
   ]
  },
  {
   "cell_type": "code",
   "execution_count": 6,
   "id": "38fc58f1",
   "metadata": {},
   "outputs": [],
   "source": [
    "#dist=[]\n",
    "#for i in range(1,length):\n",
    "#    dist.append(t(0,i))\n",
    "#print(max(dist))\n",
    "#print(min(dist))"
   ]
  },
  {
   "cell_type": "code",
   "execution_count": 7,
   "id": "a085e535",
   "metadata": {},
   "outputs": [],
   "source": [
    "# for every station j (except for the school) exactly one bus\n",
    "for j in range(1,length):\n",
    "    myModel.addConstr(quicksum(x[i,j] for i in range(length))==1, name=\"Constraints1\")\n",
    "\n",
    "for i in range(1,length):\n",
    "    # for every station i go to a next station j (or school?)\n",
    "    myModel.addConstr(quicksum(x[i,j] for j in range(length))==1, name=\"Constraints2\")\n",
    "    # after every station i satisfy capacity\n",
    "    myModel.addConstr(y[i]<=Q)"
   ]
  },
  {
   "cell_type": "code",
   "execution_count": 8,
   "id": "e6450c97",
   "metadata": {},
   "outputs": [],
   "source": [
    "for i in range(length):\n",
    "    for j in range(1,length):\n",
    "        myModel.addConstr(y[i]-y[j]<= M-M*x[i,j]-c[j], name=\"Constraints3\")\n",
    "        myModel.addConstr(z[i]+t(i,j)-z[j]<= M*(1-x[i,j]), name=\"Constraints4\")\n",
    "for i in range(length):        \n",
    "        myModel.addConstr(z[i]<=D, name=\"Constraints5\")"
   ]
  },
  {
   "cell_type": "code",
   "execution_count": 9,
   "id": "c5736108",
   "metadata": {},
   "outputs": [
    {
     "data": {
      "text/plain": [
       "<gurobi.Constr *Awaiting Model Update*>"
      ]
     },
     "execution_count": 9,
     "metadata": {},
     "output_type": "execute_result"
    }
   ],
   "source": [
    "myModel.addConstr(z[0]==0)\n",
    "myModel.addConstr(y[0]==0)"
   ]
  },
  {
   "cell_type": "code",
   "execution_count": 10,
   "id": "91da0cda",
   "metadata": {},
   "outputs": [
    {
     "name": "stdout",
     "output_type": "stream",
     "text": [
      "Warning: linear constraint 0 and linear constraint 1 have the same name \"Constraints1\"\n"
     ]
    }
   ],
   "source": [
    "Obj = M* quicksum(x[0,j] for j in range(1, length))+quicksum(t(i,j)*x[i,j] for i in range(length) for j in range(1,length))\n",
    "myModel.setObjective(Obj,GRB.MINIMIZE)\n",
    "myModel.write(\"SS(small).lp\")"
   ]
  },
  {
   "cell_type": "code",
   "execution_count": 11,
   "id": "2ebd48b4",
   "metadata": {},
   "outputs": [
    {
     "name": "stdout",
     "output_type": "stream",
     "text": [
      "Gurobi Optimizer version 9.1.2 build v9.1.2rc0 (win64)\n",
      "Thread count: 8 physical cores, 16 logical processors, using up to 16 threads\n",
      "Optimize a model with 311 rows, 168 columns and 1037 nonzeros\n",
      "Model fingerprint: 0x1a0442de\n",
      "Variable types: 12 continuous, 156 integer (144 binary)\n",
      "Coefficient statistics:\n",
      "  Matrix range     [1e+00, 1e+03]\n",
      "  Objective range  [1e-02, 1e+03]\n",
      "  Bounds range     [1e+00, 1e+00]\n",
      "  RHS range        [1e+00, 1e+03]\n",
      "Found heuristic solution: objective 7000.4000000\n",
      "Presolve removed 82 rows and 41 columns\n",
      "Presolve time: 0.01s\n",
      "Presolved: 229 rows, 127 columns, 1346 nonzeros\n",
      "Variable types: 11 continuous, 116 integer (105 binary)\n",
      "\n",
      "Root relaxation: objective 3.200000e-01, 80 iterations, 0.00 seconds\n",
      "\n",
      "    Nodes    |    Current Node    |     Objective Bounds      |     Work\n",
      " Expl Unexpl |  Obj  Depth IntInf | Incumbent    BestBd   Gap | It/Node Time\n",
      "\n",
      "     0     0    0.32000    0   28 7000.40000    0.32000   100%     -    0s\n",
      "H    0     0                    7000.2500000    0.32000   100%     -    0s\n",
      "H    0     0                    4000.3800000    0.32000   100%     -    0s\n",
      "H    0     0                    4000.2900000    0.32000   100%     -    0s\n",
      "H    0     0                    4000.2800000    0.32000   100%     -    0s\n",
      "H    0     0                    4000.2300000    0.32000   100%     -    0s\n",
      "     0     0    0.32000    0   25 4000.23000    0.32000   100%     -    0s\n",
      "H    0     0                    4000.2100000    0.32000   100%     -    0s\n",
      "H    0     0                    4000.1600000    0.32000   100%     -    0s\n",
      "     0     0    0.32000    0   25 4000.16000    0.32000   100%     -    0s\n",
      "     0     0    0.35078    0   32 4000.16000    0.35078   100%     -    0s\n",
      "     0     0    0.35078    0   32 4000.16000    0.35078   100%     -    0s\n",
      "     0     0    0.37110    0   34 4000.16000    0.37110   100%     -    0s\n",
      "     0     0    0.37110    0   29 4000.16000    0.37110   100%     -    0s\n",
      "     0     0    0.38000    0   37 4000.16000    0.38000   100%     -    0s\n",
      "H    0     0                    4000.1400000    0.38000   100%     -    0s\n",
      "     0     0    0.38000    0   36 4000.14000    0.38000   100%     -    0s\n",
      "     0     0    0.38000    0   41 4000.14000    0.38000   100%     -    0s\n",
      "     0     0    0.38000    0   40 4000.14000    0.38000   100%     -    0s\n",
      "     0     0    0.38000    0   29 4000.14000    0.38000   100%     -    0s\n",
      "     0     0    0.38000    0   29 4000.14000    0.38000   100%     -    0s\n",
      "     0     0    0.38000    0   31 4000.14000    0.38000   100%     -    0s\n",
      "     0     0    0.38000    0   31 4000.14000    0.38000   100%     -    0s\n",
      "     0     2    0.38000    0   23 4000.14000    0.38000   100%     -    0s\n",
      "H  121   132                    4000.1100000    0.38512   100%  44.5    0s\n",
      "H  870   543                    4000.1096462    0.38892   100%  24.5    0s\n",
      " 73318 23673 2148.50397   54   13 4000.10965 1105.81883  72.4%  12.3    5s\n",
      " 296139 76311     cutoff   51      4000.10965 1591.23779  60.2%   8.7   10s\n",
      " 539161 110973     cutoff   48      4000.10965 2000.28000  50.0%   7.8   15s\n",
      "H721260 120272                    4000.1095001 2000.32000  50.0%   7.7   18s\n",
      " 774125 120988 3000.35000   41    6 4000.10950 2000.33958  50.0%   7.6   20s\n",
      " 1028346 114899     cutoff   41      4000.10950 2173.43406  45.7%   7.2   25s\n",
      "H1102255 109139                    4000.1092237 2342.21183  41.4%   7.1   26s\n",
      " 1287741 83996 3000.37204   48   10 4000.10922 2906.18912  27.3%   6.8   30s\n",
      " 1532750 41975 3000.34120   47    3 4000.10922 3000.33920  25.0%   6.6   35s\n",
      "\n",
      "Cutting planes:\n",
      "  Gomory: 1\n",
      "  Cover: 2\n",
      "  Projected implied bound: 1\n",
      "  MIR: 1\n",
      "  Flow cover: 7\n",
      "  Zero half: 3\n",
      "  RLT: 1\n",
      "  Relax-and-lift: 2\n",
      "\n",
      "Explored 1629326 nodes (10768629 simplex iterations) in 36.88 seconds\n",
      "Thread count was 16 (of 16 available processors)\n",
      "\n",
      "Solution count 10: 4000.11 4000.11 4000.11 ... 4000.29\n",
      "\n",
      "Optimal solution found (tolerance 1.00e-04)\n",
      "Best objective 4.000110000000e+03, best bound 4.000110000000e+03, gap 0.0000%\n"
     ]
    }
   ],
   "source": [
    "myModel.optimize()"
   ]
  },
  {
   "cell_type": "code",
   "execution_count": 12,
   "id": "b3048b0b",
   "metadata": {},
   "outputs": [
    {
     "name": "stdout",
     "output_type": "stream",
     "text": [
      "[(0, 7), (0, 9), (0, 10), (0, 11), (1, 4), (2, 0), (3, 6), (4, 5), (5, 2), (6, 8), (7, 3), (8, 1), (9, 0), (10, 0), (11, 0)]\n"
     ]
    }
   ],
   "source": [
    "route=[]\n",
    "for i in x:\n",
    "    if x[i].X==1:\n",
    "        route.append(i)\n",
    "        #print(i,x[i].X)\n",
    "print(route)"
   ]
  },
  {
   "cell_type": "code",
   "execution_count": 13,
   "id": "629e81f0",
   "metadata": {},
   "outputs": [
    {
     "name": "stdout",
     "output_type": "stream",
     "text": [
      "0 11\n"
     ]
    }
   ],
   "source": [
    "print(route[3][0],route[3][1])\n",
    "#route"
   ]
  },
  {
   "cell_type": "code",
   "execution_count": 14,
   "id": "51a5c987",
   "metadata": {},
   "outputs": [
    {
     "name": "stdout",
     "output_type": "stream",
     "text": [
      "[(0, 7), (0, 9), (0, 10), (0, 11)]\n"
     ]
    }
   ],
   "source": [
    "starting=[]\n",
    "for i in range(len(route)):\n",
    "    if route[i][0]==0:\n",
    "        starting.append(route[i])\n",
    "print(starting)"
   ]
  },
  {
   "cell_type": "code",
   "execution_count": 15,
   "id": "ad373773",
   "metadata": {},
   "outputs": [],
   "source": [
    "import networkx as nx\n",
    "import matplotlib.pyplot as plt\n",
    "plt.rcParams['figure.figsize'] = [5, 5] ## set the size of all figures"
   ]
  },
  {
   "cell_type": "code",
   "execution_count": 16,
   "id": "405799cf",
   "metadata": {},
   "outputs": [],
   "source": [
    "import math\n",
    "#def euclidean(x,y): # instead of the Haversine distance <- We should be using Haversine, this is simply a proxy\n",
    "#    return math.sqrt((x[0]-y[0])**2+(x[1]-y[1])**2)\n",
    "\n",
    "def haversine(x,y): \n",
    "    lon1=x[0]\n",
    "    lat1=x[1]\n",
    "    lon2=y[0]\n",
    "    lat2=y[1]\n",
    "    lon1, lat1, lon2, lat2 = map(math.radians, [lon1, lat1, lon2, lat2])\n",
    "    dlon = lon2 - lon1 \n",
    "    dlat = lat2 - lat1 \n",
    "    a = math.sin(dlat/2)**2 + math.cos(lat1) * math.cos(lat2) * math.sin(dlon/2)**2\n",
    "    c = 2 * math.asin(math.sqrt(a)) \n",
    "    r = 3956 \n",
    "    return c*r"
   ]
  },
  {
   "cell_type": "code",
   "execution_count": 17,
   "id": "04cda2d6",
   "metadata": {},
   "outputs": [],
   "source": [
    "from itertools import combinations\n",
    "x=data[\"Longitude\"].tolist() # Longitude corresponds to the x axis.\n",
    "y=data[\"Latitude\"].tolist() # Latitude corresponds to the y axis.\n",
    "z=data[\"Stop_id\"].tolist() \n",
    "s=data['Nodesize'].tolist()\n",
    "\n",
    "stations={}\n",
    "pos={}\n",
    "for i in range(len(x)):\n",
    "    stations[z[i]]=(x[i],y[i]) # storing (x,y) information for each zip code\n",
    "    pos[z[i]]=(x[i],y[i]) # also storing them to position the nodes in the end.\n",
    "\n",
    "G=nx.Graph() \n",
    "addList=[]\n",
    "for (i,j) in combinations(stations,2):\n",
    "    distance=haversine(stations[i],stations[j])\n",
    "    addList.append(distance)\n",
    "    G.add_node(i,weight=distance)\n",
    "    G.add_edge(i,j,weight=distance)"
   ]
  },
  {
   "cell_type": "code",
   "execution_count": 34,
   "id": "fab4b863",
   "metadata": {},
   "outputs": [],
   "source": [
    "starting=[]\n",
    "for i in range(len(route)):\n",
    "    if route[i][0]==0:\n",
    "        starting.append(route[i])\n",
    "#print(starting)\n",
    "routes=[]\n",
    "for i in range(len(starting)):\n",
    "    routes.append([])\n",
    "    routes[i].append(starting[i])\n",
    "#print(routes)\n",
    "routes_n=0\n",
    "\n",
    "while len(route)>routes_n:\n",
    "    for i in range(len(route)):\n",
    "        for j in range(len(routes)):\n",
    "            if routes[j][-1][1]!=0:\n",
    "                if route[i][0]==routes[j][-1][1]:\n",
    "                    routes[j].append(route[i])\n",
    "    routes_n=0\n",
    "    for i in range(len(routes)):\n",
    "        routes_n+=len(routes[i])"
   ]
  },
  {
   "cell_type": "code",
   "execution_count": 43,
   "id": "5b5751ba",
   "metadata": {},
   "outputs": [],
   "source": [
    "#routes"
   ]
  },
  {
   "cell_type": "code",
   "execution_count": 41,
   "id": "635136e9",
   "metadata": {},
   "outputs": [
    {
     "data": {
      "image/png": "[encoded data removed]",
      "text/plain": [
       "<Figure size 360x360 with 1 Axes>"
      ]
     },
     "metadata": {},
     "output_type": "display_data"
    }
   ],
   "source": [
    "node_list=[0]\n",
    "nx.draw(G,pos, with_labels=True, node_size=s, width=0) \n",
    "nx.draw_networkx_nodes(G,pos,node_size=50,nodelist=node_list,node_color ='y')\n",
    "nx.draw_networkx_edges(G,pos,edge_color='r',edgelist=routes[0][0:-1])\n",
    "nx.draw_networkx_edges(G,pos,edge_color='y',edgelist=routes[1][0:-1])\n",
    "nx.draw_networkx_edges(G,pos,edge_color='b',edgelist=routes[2][0:-1])\n",
    "nx.draw_networkx_edges(G,pos,edge_color='k',edgelist=routes[3][0:-1])\n",
    "\n",
    "plt.show()"
   ]
  }
 ],
 "metadata": {
  "kernelspec": {
   "display_name": "Python 3",
   "language": "python",
   "name": "python3"
  },
  "language_info": {
   "codemirror_mode": {
    "name": "ipython",
    "version": 3
   },
   "file_extension": ".py",
   "mimetype": "text/x-python",
   "name": "python",
   "nbconvert_exporter": "python",
   "pygments_lexer": "ipython3",
   "version": "3.8.8"
  }
 },
 "nbformat": 4,
 "nbformat_minor": 5
}
